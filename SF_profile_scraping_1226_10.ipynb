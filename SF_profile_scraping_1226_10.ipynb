{
 "cells": [
  {
   "cell_type": "code",
   "execution_count": 1,
   "metadata": {},
   "outputs": [
    {
     "name": "stdout",
     "output_type": "stream",
     "text": [
      "Requirement already satisfied: selenium in c:\\users\\i0150\\anaconda3\\lib\\site-packages (3.141.0)\n",
      "Requirement already satisfied: urllib3 in c:\\users\\i0150\\anaconda3\\lib\\site-packages (from selenium) (1.25.11)\n",
      "Requirement already satisfied: webdriver_manager in c:\\users\\i0150\\anaconda3\\lib\\site-packages (3.2.2)\n",
      "Requirement already satisfied: configparser in c:\\users\\i0150\\anaconda3\\lib\\site-packages (from webdriver_manager) (5.0.1)\n",
      "Requirement already satisfied: requests in c:\\users\\i0150\\anaconda3\\lib\\site-packages (from webdriver_manager) (2.24.0)\n",
      "Requirement already satisfied: crayons in c:\\users\\i0150\\anaconda3\\lib\\site-packages (from webdriver_manager) (0.4.0)\n",
      "Requirement already satisfied: idna<3,>=2.5 in c:\\users\\i0150\\anaconda3\\lib\\site-packages (from requests->webdriver_manager) (2.10)\n",
      "Requirement already satisfied: urllib3!=1.25.0,!=1.25.1,<1.26,>=1.21.1 in c:\\users\\i0150\\anaconda3\\lib\\site-packages (from requests->webdriver_manager) (1.25.11)\n",
      "Requirement already satisfied: certifi>=2017.4.17 in c:\\users\\i0150\\anaconda3\\lib\\site-packages (from requests->webdriver_manager) (2020.6.20)\n",
      "Requirement already satisfied: chardet<4,>=3.0.2 in c:\\users\\i0150\\anaconda3\\lib\\site-packages (from requests->webdriver_manager) (3.0.4)\n",
      "Requirement already satisfied: colorama in c:\\users\\i0150\\appdata\\roaming\\python\\python38\\site-packages (from crayons->webdriver_manager) (0.4.4)\n",
      "Requirement already satisfied: requests in c:\\users\\i0150\\anaconda3\\lib\\site-packages (2.24.0)\n",
      "Requirement already satisfied: chardet<4,>=3.0.2 in c:\\users\\i0150\\anaconda3\\lib\\site-packages (from requests) (3.0.4)\n",
      "Requirement already satisfied: certifi>=2017.4.17 in c:\\users\\i0150\\anaconda3\\lib\\site-packages (from requests) (2020.6.20)\n",
      "Requirement already satisfied: urllib3!=1.25.0,!=1.25.1,<1.26,>=1.21.1 in c:\\users\\i0150\\anaconda3\\lib\\site-packages (from requests) (1.25.11)\n",
      "Requirement already satisfied: idna<3,>=2.5 in c:\\users\\i0150\\anaconda3\\lib\\site-packages (from requests) (2.10)\n",
      "Requirement already satisfied: BeautifulSoup4 in c:\\users\\i0150\\anaconda3\\lib\\site-packages (4.9.3)\n",
      "Requirement already satisfied: soupsieve>1.2; python_version >= \"3.0\" in c:\\users\\i0150\\anaconda3\\lib\\site-packages (from BeautifulSoup4) (2.0.1)\n"
     ]
    }
   ],
   "source": [
    "!pip install selenium\n",
    "!pip install webdriver_manager\n",
    "\n",
    "#BSでデータ取得に必要なライブラリ\n",
    "!pip install requests\n",
    "!pip install BeautifulSoup4"
   ]
  },
  {
   "cell_type": "code",
   "execution_count": 10,
   "metadata": {},
   "outputs": [
    {
     "data": {
      "text/html": [
       "<div>\n",
       "<style scoped>\n",
       "    .dataframe tbody tr th:only-of-type {\n",
       "        vertical-align: middle;\n",
       "    }\n",
       "\n",
       "    .dataframe tbody tr th {\n",
       "        vertical-align: top;\n",
       "    }\n",
       "\n",
       "    .dataframe thead th {\n",
       "        text-align: right;\n",
       "    }\n",
       "</style>\n",
       "<table border=\"1\" class=\"dataframe\">\n",
       "  <thead>\n",
       "    <tr style=\"text-align: right;\">\n",
       "      <th></th>\n",
       "      <th>取得データ</th>\n",
       "    </tr>\n",
       "  </thead>\n",
       "  <tbody>\n",
       "    <tr>\n",
       "      <th>0</th>\n",
       "      <td>akuwa</td>\n",
       "    </tr>\n",
       "    <tr>\n",
       "      <th>1</th>\n",
       "      <td>50001008</td>\n",
       "    </tr>\n",
       "  </tbody>\n",
       "</table>\n",
       "</div>"
      ],
      "text/plain": [
       "      取得データ\n",
       "0     akuwa\n",
       "1  50001008"
      ]
     },
     "execution_count": 10,
     "metadata": {},
     "output_type": "execute_result"
    }
   ],
   "source": [
    "import pandas as pd\n",
    "from selenium import webdriver\n",
    "from time import sleep\n",
    "\n",
    "#BSによるデータ抽出に必要なモジュール\n",
    "import requests\n",
    "from bs4 import BeautifulSoup\n",
    "\n",
    "#ログインとデータ取得処理\n",
    "# for i in range(1):\n",
    "browser = webdriver.Chrome('chromedriver.exe')\n",
    "from webdriver_manager.chrome import ChromeDriverManager\n",
    "\n",
    "url = 'https://salesdemo.successfactors.eu/login?company=SFPART033321'\n",
    "browser.get(url)\n",
    "sleep(0.5)\n",
    "\n",
    "#ユーザーID入力    \n",
    "element_username = browser.find_element_by_id('__input1-inner')\n",
    "element_username.send_keys('9990001')\n",
    "\n",
    "#パスワード入力\n",
    "elem_password = browser.find_element_by_id('__input2-inner')\n",
    "elem_password.send_keys('test02')\n",
    "sleep(1)\n",
    "\n",
    "#ログインボタン押下\n",
    "elem_login_btn = browser.find_element_by_id('__button2-inner')\n",
    "elem_login_btn.click()\n",
    "sleep(10)\n",
    "\n",
    "#メニューバークリック\n",
    "menu_bar = browser.find_element_by_id('customHeaderModulePickerBtn-BDI-content')\n",
    "menu_bar.click()\n",
    "sleep(10)\n",
    "\n",
    "#社員プロファイルメニュー選択\n",
    "menu_emp = browser.find_element_by_id('__item7-__list4-15')\n",
    "menu_emp.click()\n",
    "sleep(5)  \n",
    "\n",
    "elem_menu = browser.find_element_by_id('bizXSearchField-I')\n",
    "elem_menu.send_keys('akuwa')\n",
    "sleep(4)\n",
    "\n",
    "#検索されたユーザーを選択\n",
    "menu_select = browser.find_element_by_id('__list1')\n",
    "menu_select.click()\n",
    "sleep(6)    \n",
    "\n",
    "\n",
    "#プロファイルデータ取得「配列」格納\n",
    "values = []\n",
    "\n",
    "#ユーザー名取得\n",
    "job_datas = browser.find_elements_by_xpath('//div/table/tbody/tr[3]/td[2]/span[@class=\"valuePattern\"]')\n",
    "value = job_datas[0].text\n",
    "values.append(value)\n",
    "\n",
    "#ユーザーID取得\n",
    "job_datas = browser.find_elements_by_xpath('//div/table/tbody/tr[4]/td[2]/span[@class=\"valuePattern\"]')\n",
    "value = job_datas[0].text\n",
    "values.append(value)\n",
    "\n",
    "\n",
    "#データ整形（取得データのテーブル格納）\n",
    "df = pd.DataFrame()\n",
    "df['取得データ'] = values\n",
    "\n",
    "#CSV出力処理\n",
    "df.to_csv('社員プロファイル情報.csv', index=False)\n",
    "\n",
    "#取得結果の表示（配列）\n",
    "df\n",
    "\n",
    "# #職務情報タブをクリック\n",
    "# menu_tab_select = browser.find_element_by_id('__xmlview0--objectPage-anchBar-__section1-__xmlview0--objectPage-2-anchor-content')\n",
    "# menu_tab_select.click()\n",
    "# sleep(6)\n",
    "\n",
    "# browser.quit()"
   ]
  },
  {
   "cell_type": "code",
   "execution_count": 9,
   "metadata": {},
   "outputs": [
    {
     "data": {
      "text/html": [
       "<div>\n",
       "<style scoped>\n",
       "    .dataframe tbody tr th:only-of-type {\n",
       "        vertical-align: middle;\n",
       "    }\n",
       "\n",
       "    .dataframe tbody tr th {\n",
       "        vertical-align: top;\n",
       "    }\n",
       "\n",
       "    .dataframe thead th {\n",
       "        text-align: right;\n",
       "    }\n",
       "</style>\n",
       "<table border=\"1\" class=\"dataframe\">\n",
       "  <thead>\n",
       "    <tr style=\"text-align: right;\">\n",
       "      <th></th>\n",
       "      <th>取得データ</th>\n",
       "    </tr>\n",
       "  </thead>\n",
       "  <tbody>\n",
       "    <tr>\n",
       "      <th>0</th>\n",
       "      <td>akuwa</td>\n",
       "    </tr>\n",
       "    <tr>\n",
       "      <th>1</th>\n",
       "      <td>50001008</td>\n",
       "    </tr>\n",
       "  </tbody>\n",
       "</table>\n",
       "</div>"
      ],
      "text/plain": [
       "      取得データ\n",
       "0     akuwa\n",
       "1  50001008"
      ]
     },
     "execution_count": 9,
     "metadata": {},
     "output_type": "execute_result"
    }
   ],
   "source": [
    "df"
   ]
  },
  {
   "cell_type": "code",
   "execution_count": null,
   "metadata": {},
   "outputs": [],
   "source": []
  }
 ],
 "metadata": {
  "kernelspec": {
   "display_name": "Python 3",
   "language": "python",
   "name": "python3"
  },
  "language_info": {
   "codemirror_mode": {
    "name": "ipython",
    "version": 3
   },
   "file_extension": ".py",
   "mimetype": "text/x-python",
   "name": "python",
   "nbconvert_exporter": "python",
   "pygments_lexer": "ipython3",
   "version": "3.8.5"
  }
 },
 "nbformat": 4,
 "nbformat_minor": 4
}
